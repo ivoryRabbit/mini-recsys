{
 "cells": [
  {
   "cell_type": "code",
   "execution_count": 7,
   "outputs": [],
   "source": [
    "import pandas as pd\n",
    "import networkx as nx"
   ],
   "metadata": {
    "collapsed": false,
    "pycharm": {
     "name": "#%%\n"
    }
   }
  },
  {
   "cell_type": "code",
   "execution_count": 13,
   "outputs": [],
   "source": [
    "ratings = pd.read_csv(\"/tmp/fastapi/ratings.csv\")"
   ],
   "metadata": {
    "collapsed": false,
    "pycharm": {
     "name": "#%%\n"
    }
   }
  },
  {
   "cell_type": "code",
   "execution_count": 14,
   "outputs": [],
   "source": [
    "edges = (\n",
    "    ratings\n",
    "    .assign(\n",
    "        user_id=lambda df: df[\"user_id\"].map(lambda x: \"U\" + str(x)),\n",
    "        item_id=lambda df: df[\"item_id\"].map(lambda x: \"I\" + str(x))\n",
    "    )\n",
    "    .filter([\"user_id\", \"item_id\"])\n",
    ")"
   ],
   "metadata": {
    "collapsed": false,
    "pycharm": {
     "name": "#%%\n"
    }
   }
  },
  {
   "cell_type": "code",
   "execution_count": 21,
   "outputs": [
    {
     "data": {
      "text/plain": "<map at 0x117e9fdc0>"
     },
     "execution_count": 21,
     "metadata": {},
     "output_type": "execute_result"
    }
   ],
   "source": [
    "edges.itertuples(index=False)"
   ],
   "metadata": {
    "collapsed": false,
    "pycharm": {
     "name": "#%%\n"
    }
   }
  },
  {
   "cell_type": "code",
   "execution_count": 17,
   "outputs": [],
   "source": [
    "graph = nx.Graph()"
   ],
   "metadata": {
    "collapsed": false,
    "pycharm": {
     "name": "#%%\n"
    }
   }
  },
  {
   "cell_type": "code",
   "execution_count": 24,
   "outputs": [
    {
     "data": {
      "text/plain": "<networkx.classes.graph.Graph at 0x117e9ff70>"
     },
     "execution_count": 24,
     "metadata": {},
     "output_type": "execute_result"
    }
   ],
   "source": [
    "graph"
   ],
   "metadata": {
    "collapsed": false,
    "pycharm": {
     "name": "#%%\n"
    }
   }
  },
  {
   "cell_type": "code",
   "execution_count": 27,
   "outputs": [],
   "source": [
    "import duckdb"
   ],
   "metadata": {
    "collapsed": false,
    "pycharm": {
     "name": "#%%\n"
    }
   }
  },
  {
   "cell_type": "code",
   "execution_count": 37,
   "outputs": [],
   "source": [
    "_connection = duckdb.connect(\":memory:\")\n",
    "\n",
    "queries = [\n",
    "    \"\"\"\n",
    "    PRAGMA threads=1;\n",
    "    \"\"\",\n",
    "    \"\"\"\n",
    "    CREATE TABLE users (\n",
    "        user_id INT PRIMARY KEY,\n",
    "        gender VARCHAR(2),\n",
    "        age SMALLINT,\n",
    "        occupation SMALLINT,\n",
    "        zip_code VARCHAR(10)\n",
    "    );\n",
    "    \"\"\",\n",
    "    f\"\"\"\n",
    "    COPY users FROM '/tmp/fastapi/users.csv' (\n",
    "        AUTO_DETECT FALSE, HEADER TRUE\n",
    "    );\n",
    "    \"\"\",\n",
    "    \"\"\"\n",
    "    CREATE TABLE movies (\n",
    "        item_id INT PRIMARY KEY,\n",
    "        title VARCHAR(100),\n",
    "        genres VARCHAR(100)\n",
    "    );\n",
    "    \"\"\",\n",
    "    f\"\"\"\n",
    "    COPY movies FROM '/tmp/fastapi/movies.csv' (\n",
    "        AUTO_DETECT FALSE, HEADER TRUE\n",
    "    );\n",
    "    \"\"\"\n",
    "]\n",
    "\n",
    "for query in queries:\n",
    "    _connection.execute(query)"
   ],
   "metadata": {
    "collapsed": false,
    "pycharm": {
     "name": "#%%\n"
    }
   }
  },
  {
   "cell_type": "code",
   "execution_count": 30,
   "outputs": [],
   "source": [
    "item_id = 1"
   ],
   "metadata": {
    "collapsed": false,
    "pycharm": {
     "name": "#%%\n"
    }
   }
  },
  {
   "cell_type": "code",
   "execution_count": 45,
   "outputs": [
    {
     "data": {
      "text/plain": "(1, 'Toy Story (1995)')"
     },
     "execution_count": 45,
     "metadata": {},
     "output_type": "execute_result"
    }
   ],
   "source": [
    "_connection.execute(\n",
    "    f\"\"\"\n",
    "    SELECT item_id, title\n",
    "    FROM movies\n",
    "    WHERE item_id = {item_id}\n",
    "    \"\"\"\n",
    ").fetchone()"
   ],
   "metadata": {
    "collapsed": false,
    "pycharm": {
     "name": "#%%\n"
    }
   }
  },
  {
   "cell_type": "code",
   "execution_count": 38,
   "outputs": [],
   "source": [
    "item_ids = [1, 2, 3, 4]"
   ],
   "metadata": {
    "collapsed": false,
    "pycharm": {
     "name": "#%%\n"
    }
   }
  },
  {
   "cell_type": "code",
   "execution_count": 41,
   "outputs": [],
   "source": [
    "predicates = \" OR \".join([f\"item_id={item_id}\" for item_id in item_ids])"
   ],
   "metadata": {
    "collapsed": false,
    "pycharm": {
     "name": "#%%\n"
    }
   }
  },
  {
   "cell_type": "code",
   "execution_count": 43,
   "outputs": [
    {
     "data": {
      "text/plain": "'item_id=1 OR item_id=2 OR item_id=3 OR item_id=4'"
     },
     "execution_count": 43,
     "metadata": {},
     "output_type": "execute_result"
    }
   ],
   "source": [
    "predicates"
   ],
   "metadata": {
    "collapsed": false,
    "pycharm": {
     "name": "#%%\n"
    }
   }
  },
  {
   "cell_type": "code",
   "execution_count": 46,
   "outputs": [
    {
     "data": {
      "text/plain": "[(1, 'Toy Story (1995)'),\n (2, 'Jumanji (1995)'),\n (3, 'Grumpier Old Men (1995)'),\n (4, 'Waiting to Exhale (1995)')]"
     },
     "execution_count": 46,
     "metadata": {},
     "output_type": "execute_result"
    }
   ],
   "source": [
    "_connection.execute(\n",
    "    f\"\"\"\n",
    "    SELECT item_id, title\n",
    "    FROM movies\n",
    "    WHERE {predicates}\n",
    "    \"\"\"\n",
    ").fetchall()"
   ],
   "metadata": {
    "collapsed": false,
    "pycharm": {
     "name": "#%%\n"
    }
   }
  },
  {
   "cell_type": "code",
   "execution_count": null,
   "outputs": [],
   "source": [],
   "metadata": {
    "collapsed": false,
    "pycharm": {
     "name": "#%%\n"
    }
   }
  }
 ],
 "metadata": {
  "kernelspec": {
   "display_name": "Python 3",
   "language": "python",
   "name": "python3"
  },
  "language_info": {
   "codemirror_mode": {
    "name": "ipython",
    "version": 2
   },
   "file_extension": ".py",
   "mimetype": "text/x-python",
   "name": "python",
   "nbconvert_exporter": "python",
   "pygments_lexer": "ipython2",
   "version": "2.7.6"
  }
 },
 "nbformat": 4,
 "nbformat_minor": 0
}